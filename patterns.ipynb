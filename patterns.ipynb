{
  "nbformat": 4,
  "nbformat_minor": 0,
  "metadata": {
    "colab": {
      "provenance": []
    },
    "kernelspec": {
      "name": "python3",
      "display_name": "Python 3"
    },
    "language_info": {
      "name": "python"
    }
  },
  "cells": [
    {
      "cell_type": "code",
      "execution_count": null,
      "metadata": {
        "colab": {
          "base_uri": "https://localhost:8080/"
        },
        "id": "8QWAKBjSeFlI",
        "outputId": "4bd41522-213f-4667-b548-b931906d36c8"
      },
      "outputs": [
        {
          "output_type": "stream",
          "name": "stdout",
          "text": [
            "****\n",
            "****\n",
            "****\n",
            "****\n"
          ]
        }
      ],
      "source": [
        "for i in range(4):\n",
        "  for j in range(4):\n",
        "    print(\"*\", end=\"\")\n",
        "  print()"
      ]
    },
    {
      "cell_type": "code",
      "source": [
        "def nForest(n:int) ->None:\n",
        "    # Write your solution here.\n",
        "    for i in range(n):\n",
        "        for j in range(n):\n",
        "            print(\"*\", end = \" \")\n",
        "        print()\n",
        "n = 3\n",
        "nForest(n)"
      ],
      "metadata": {
        "colab": {
          "base_uri": "https://localhost:8080/"
        },
        "id": "0hhiCfvcheao",
        "outputId": "9fe0f03e-ab0e-4ccd-8f20-0fa845163601"
      },
      "execution_count": null,
      "outputs": [
        {
          "output_type": "stream",
          "name": "stdout",
          "text": [
            "* * * \n",
            "* * * \n",
            "* * * \n"
          ]
        }
      ]
    },
    {
      "cell_type": "code",
      "source": [
        "for i in range(5):\n",
        "  for j in range(i):\n",
        "    print(\"*\", end = '')\n",
        "  print()"
      ],
      "metadata": {
        "colab": {
          "base_uri": "https://localhost:8080/"
        },
        "id": "OfcM7aW1he5J",
        "outputId": "7d7d012d-8af1-438f-8ede-f3be0864cacc"
      },
      "execution_count": null,
      "outputs": [
        {
          "output_type": "stream",
          "name": "stdout",
          "text": [
            "\n",
            "*\n",
            "**\n",
            "***\n",
            "****\n"
          ]
        }
      ]
    },
    {
      "cell_type": "code",
      "source": [
        "for i in range(4):\n",
        "  for j in range(i+1):\n",
        "    print(j+1, end = '')\n",
        "  print()"
      ],
      "metadata": {
        "colab": {
          "base_uri": "https://localhost:8080/"
        },
        "id": "Fzn9nboikGmi",
        "outputId": "c0121f73-da16-4475-a353-b3bb7f738716"
      },
      "execution_count": null,
      "outputs": [
        {
          "output_type": "stream",
          "name": "stdout",
          "text": [
            "1\n",
            "12\n",
            "123\n",
            "1234\n"
          ]
        }
      ]
    },
    {
      "cell_type": "code",
      "source": [
        "for i in range(4):\n",
        "  for j in range(i+1):\n",
        "    print(j+1, end = '')\n",
        "  print()"
      ],
      "metadata": {
        "colab": {
          "base_uri": "https://localhost:8080/"
        },
        "id": "NV2EkmDfmAn0",
        "outputId": "27cfb90d-764b-4b86-b88c-00e4da4c8324"
      },
      "execution_count": null,
      "outputs": [
        {
          "output_type": "stream",
          "name": "stdout",
          "text": [
            "1\n",
            "12\n",
            "123\n",
            "1234\n"
          ]
        }
      ]
    },
    {
      "cell_type": "code",
      "source": [
        "for i in range(5):\n",
        "  for j in range(i+1):\n",
        "    print(i+1,\"\", end = '')\n",
        "  print()"
      ],
      "metadata": {
        "colab": {
          "base_uri": "https://localhost:8080/"
        },
        "id": "dGMoF924mJjB",
        "outputId": "90abe9ea-0800-40ce-c582-5f9718c44532"
      },
      "execution_count": null,
      "outputs": [
        {
          "output_type": "stream",
          "name": "stdout",
          "text": [
            "1 \n",
            "2 2 \n",
            "3 3 3 \n",
            "4 4 4 4 \n",
            "5 5 5 5 5 \n"
          ]
        }
      ]
    },
    {
      "cell_type": "code",
      "source": [
        "for i in range(5):\n",
        "  for j in range(5-i):\n",
        "    print(\"*\", end = '')\n",
        "  print()"
      ],
      "metadata": {
        "colab": {
          "base_uri": "https://localhost:8080/"
        },
        "id": "fp5ZBkAwn14M",
        "outputId": "6a854567-1a24-4a26-d45d-517c89a18299"
      },
      "execution_count": null,
      "outputs": [
        {
          "output_type": "stream",
          "name": "stdout",
          "text": [
            "*****\n",
            "****\n",
            "***\n",
            "**\n",
            "*\n"
          ]
        }
      ]
    },
    {
      "cell_type": "code",
      "source": [
        "for i in range(5):\n",
        "  for j in range(5-i):\n",
        "    print(j+1,end='')\n",
        "  print()"
      ],
      "metadata": {
        "colab": {
          "base_uri": "https://localhost:8080/"
        },
        "id": "jgNEwgXkpRXj",
        "outputId": "f2ff4014-99c7-45e0-a611-42c24addead2"
      },
      "execution_count": null,
      "outputs": [
        {
          "output_type": "stream",
          "name": "stdout",
          "text": [
            "12345\n",
            "1234\n",
            "123\n",
            "12\n",
            "1\n"
          ]
        }
      ]
    },
    {
      "cell_type": "code",
      "source": [
        "for i in range(5):\n",
        "  for j in range(5 - i - 1):\n",
        "    print(\" \", end=\"\")\n",
        "  for j in range(2 * i + 1):\n",
        "    print(\"*\", end=\"\")\n",
        "  print()"
      ],
      "metadata": {
        "id": "hMVlE-zDqaRo",
        "colab": {
          "base_uri": "https://localhost:8080/"
        },
        "outputId": "dadaa321-ee82-46c2-c8a1-cd85865631b2"
      },
      "execution_count": null,
      "outputs": [
        {
          "output_type": "stream",
          "name": "stdout",
          "text": [
            "    *\n",
            "   ***\n",
            "  *****\n",
            " *******\n",
            "*********\n"
          ]
        }
      ]
    },
    {
      "cell_type": "code",
      "source": [
        "for i in range(5):\n",
        "    for j in range(5-i-1):\n",
        "        print(\" \", end=\"\")\n",
        "    for j in range(2*i+1):\n",
        "        print(\"*\", end=\"\")\n",
        "    print()"
      ],
      "metadata": {
        "colab": {
          "base_uri": "https://localhost:8080/"
        },
        "id": "UnijSIIHRcg6",
        "outputId": "6b8df9ce-487a-4203-d3d7-92bef409335a"
      },
      "execution_count": null,
      "outputs": [
        {
          "output_type": "stream",
          "name": "stdout",
          "text": [
            "    *\n",
            "   ***\n",
            "  *****\n",
            " *******\n",
            "*********\n"
          ]
        }
      ]
    },
    {
      "cell_type": "code",
      "source": [
        "for i in range(5):\n",
        "  for j in range(5-i-1):\n",
        "    print(\" \", end='')\n",
        "  for j in range(2*i+1):\n",
        "    print(\"*\",end='')\n",
        "  for j in range(5-i-1):\n",
        "    print(\" \", end='')\n",
        "  print()"
      ],
      "metadata": {
        "id": "x71F3mcAYa2W",
        "colab": {
          "base_uri": "https://localhost:8080/"
        },
        "outputId": "06f0e629-8007-42ee-f3e5-cb6eed8f48e1"
      },
      "execution_count": null,
      "outputs": [
        {
          "output_type": "stream",
          "name": "stdout",
          "text": [
            "    *    \n",
            "   ***   \n",
            "  *****  \n",
            " ******* \n",
            "*********\n"
          ]
        }
      ]
    },
    {
      "cell_type": "code",
      "source": [
        "for i in range(5):\n",
        "  for j in range(i):\n",
        "    print(\" \",end='')\n",
        "  for j in range(2*5-(2*i+1)):\n",
        "    print(\"*\",end='')\n",
        "  for j in range(i):\n",
        "    print(\" \",end='')\n",
        "  print()"
      ],
      "metadata": {
        "colab": {
          "base_uri": "https://localhost:8080/"
        },
        "id": "HQ8XiMAFNqG0",
        "outputId": "4f3ba0d1-5c5e-4f00-e5d8-2fba044b41b3"
      },
      "execution_count": null,
      "outputs": [
        {
          "output_type": "stream",
          "name": "stdout",
          "text": [
            "*********\n",
            " ******* \n",
            "  *****  \n",
            "   ***   \n",
            "    *    \n"
          ]
        }
      ]
    },
    {
      "cell_type": "code",
      "source": [
        "for i in range(5):\n",
        "  for j in range(5-i-1):\n",
        "    print(\" \",end='')\n",
        "  for j in range(2*i+1):\n",
        "    print(\"*\",end='')\n",
        "  for j in range(5-i-1):\n",
        "    print(\" \",end='')\n",
        "  print()\n",
        "for i in range(5):\n",
        "  for j in range(i):\n",
        "    print(\" \",end='')\n",
        "  for j in range(2*5-(2*i+1)):\n",
        "    print(\"*\",end='')\n",
        "  for j in range(i):\n",
        "    print(\" \",end='')\n",
        "  print()"
      ],
      "metadata": {
        "colab": {
          "base_uri": "https://localhost:8080/"
        },
        "id": "696-cx5hS2fS",
        "outputId": "b9d3c9d9-b06a-4812-d804-a9eee2d4c794"
      },
      "execution_count": null,
      "outputs": [
        {
          "output_type": "stream",
          "name": "stdout",
          "text": [
            "    *    \n",
            "   ***   \n",
            "  *****  \n",
            " ******* \n",
            "*********\n",
            "*********\n",
            " ******* \n",
            "  *****  \n",
            "   ***   \n",
            "    *    \n"
          ]
        }
      ]
    },
    {
      "cell_type": "code",
      "source": [
        "for i in range(5):\n",
        "    for j in range(i + 1):\n",
        "        print(\"*\", end=\"\")\n",
        "    print()\n",
        "\n",
        "for i in range(4, 0, -1):\n",
        "    for j in range(i):\n",
        "        print(\"*\", end=\"\")\n",
        "    print()"
      ],
      "metadata": {
        "colab": {
          "base_uri": "https://localhost:8080/"
        },
        "id": "jlbp7JkDVDFm",
        "outputId": "faefde0a-a8b9-4665-9d5f-80fb2f9fde8e"
      },
      "execution_count": null,
      "outputs": [
        {
          "output_type": "stream",
          "name": "stdout",
          "text": [
            "*\n",
            "**\n",
            "***\n",
            "****\n",
            "*****\n",
            "****\n",
            "***\n",
            "**\n",
            "*\n"
          ]
        }
      ]
    },
    {
      "cell_type": "code",
      "source": [
        "for i in range(5):\n",
        "    for j in range(i + 1):\n",
        "        if (i + j) % 2 == 0:\n",
        "            print(\"1\", end=\"\")\n",
        "        else:\n",
        "            print(\"0\", end=\"\")\n",
        "    print()"
      ],
      "metadata": {
        "colab": {
          "base_uri": "https://localhost:8080/"
        },
        "id": "j3NIJsfjeeEZ",
        "outputId": "cc590f8f-c39a-4cf1-eea7-5d50779f9ff0"
      },
      "execution_count": null,
      "outputs": [
        {
          "output_type": "stream",
          "name": "stdout",
          "text": [
            "1\n",
            "01\n",
            "101\n",
            "0101\n",
            "10101\n"
          ]
        }
      ]
    },
    {
      "cell_type": "code",
      "source": [
        "for i in range(1, 5):\n",
        "    for j in range(1, i + 1):\n",
        "        print(j, end=\"\")\n",
        "    for j in range(2 * (4 - i)):\n",
        "        print(\" \", end=\"\")\n",
        "    for j in range(i, 0, -1):\n",
        "        print(j, end=\"\")\n",
        "    print()"
      ],
      "metadata": {
        "colab": {
          "base_uri": "https://localhost:8080/"
        },
        "id": "ZBfAW2plkATh",
        "outputId": "77c94b05-94f2-46ba-a0a9-8d41f10a130c"
      },
      "execution_count": null,
      "outputs": [
        {
          "output_type": "stream",
          "name": "stdout",
          "text": [
            "1      1\n",
            "12    21\n",
            "123  321\n",
            "12344321\n"
          ]
        }
      ]
    },
    {
      "cell_type": "code",
      "source": [
        "n = int(input(\"enter number:\"))\n",
        "for i in range(1, n + 1):\n",
        "    for j in range(1, i + 1):\n",
        "        print(j, end=\"\")\n",
        "    for j in range(2 * (n - i)):\n",
        "        print(\" \", end=\"\")\n",
        "    for j in range(i, 0, -1):\n",
        "        print(j, end=\"\")\n",
        "    print()"
      ],
      "metadata": {
        "colab": {
          "base_uri": "https://localhost:8080/"
        },
        "id": "A-YMjHKvlY1C",
        "outputId": "c90e6a9a-054e-417c-c2f3-566904209d1a"
      },
      "execution_count": null,
      "outputs": [
        {
          "output_type": "stream",
          "name": "stdout",
          "text": [
            "enter number:5\n",
            "1        1\n",
            "12      21\n",
            "123    321\n",
            "1234  4321\n",
            "1234554321\n"
          ]
        }
      ]
    },
    {
      "cell_type": "code",
      "source": [
        "n = int(input(\"enter number:\"))\n",
        "for i in range(1,n+1):\n",
        "  for j in range(1,i+1):\n",
        "    print(j,end=\"\")\n",
        "  for j in range(2*(n-i)):\n",
        "    print(\" \",end=\"\")\n",
        "  for j in range(i,0,-1):\n",
        "    print(j,end='')\n",
        "  print()"
      ],
      "metadata": {
        "colab": {
          "base_uri": "https://localhost:8080/"
        },
        "id": "H9YSpdpSlhKh",
        "outputId": "c425f9c9-5f51-4b4c-bc0c-d2308572c6b5"
      },
      "execution_count": null,
      "outputs": [
        {
          "output_type": "stream",
          "name": "stdout",
          "text": [
            "enter number:5\n",
            "1        1\n",
            "12      21\n",
            "123    321\n",
            "1234  4321\n",
            "1234554321\n"
          ]
        }
      ]
    },
    {
      "cell_type": "code",
      "source": [
        "for i in range(5):\n",
        "    for j in range(i + 1):\n",
        "        if (i + j) % 2 == 0:\n",
        "            print(\"1\", end=\"\")\n",
        "        else:\n",
        "            print(\"0\", end=\"\")\n",
        "    print()"
      ],
      "metadata": {
        "colab": {
          "base_uri": "https://localhost:8080/"
        },
        "id": "YhDBFk7LKAuw",
        "outputId": "560f4c0c-143f-40d6-96c8-5923574ec373"
      },
      "execution_count": null,
      "outputs": [
        {
          "output_type": "stream",
          "name": "stdout",
          "text": [
            "1\n",
            "01\n",
            "101\n",
            "0101\n",
            "10101\n"
          ]
        }
      ]
    },
    {
      "cell_type": "code",
      "source": [
        "num = 1\n",
        "for i in range(6):\n",
        "  for j in range(i):\n",
        "    print(num,end='')\n",
        "    num = num+1\n",
        "  print()"
      ],
      "metadata": {
        "colab": {
          "base_uri": "https://localhost:8080/"
        },
        "id": "0StOp74xK0KA",
        "outputId": "a417a7f2-fb14-4d94-ed56-7454eea16bbb"
      },
      "execution_count": null,
      "outputs": [
        {
          "output_type": "stream",
          "name": "stdout",
          "text": [
            "\n",
            "1\n",
            "23\n",
            "456\n",
            "78910\n",
            "1112131415\n"
          ]
        }
      ]
    },
    {
      "cell_type": "code",
      "source": [
        "for i in range(5):\n",
        "  for j in range(i + 1):\n",
        "    print(chr(ord('A') + j), end='')\n",
        "  print()"
      ],
      "metadata": {
        "colab": {
          "base_uri": "https://localhost:8080/"
        },
        "id": "Sr7bW_yoUo6O",
        "outputId": "b0e1b040-4547-450a-8799-4116a359a987"
      },
      "execution_count": null,
      "outputs": [
        {
          "output_type": "stream",
          "name": "stdout",
          "text": [
            "A\n",
            "AB\n",
            "ABC\n",
            "ABCD\n",
            "ABCDE\n"
          ]
        }
      ]
    },
    {
      "cell_type": "code",
      "source": [
        "for i in range(5):\n",
        "  for j in range(5 - i):\n",
        "    print(chr(ord('A') + j), end='')\n",
        "  print()"
      ],
      "metadata": {
        "colab": {
          "base_uri": "https://localhost:8080/"
        },
        "id": "1ThnavXzWSz8",
        "outputId": "a3424a31-71e6-4e5d-9c45-90c4c351cbd8"
      },
      "execution_count": null,
      "outputs": [
        {
          "output_type": "stream",
          "name": "stdout",
          "text": [
            "ABCDE\n",
            "ABCD\n",
            "ABC\n",
            "AB\n",
            "A\n"
          ]
        }
      ]
    },
    {
      "cell_type": "code",
      "source": [
        "for i in range(5):\n",
        "  for j in range(i + 1):\n",
        "    print(chr(ord('A') + i), end='')\n",
        "  print()"
      ],
      "metadata": {
        "id": "904nKHCNYIcb",
        "colab": {
          "base_uri": "https://localhost:8080/"
        },
        "outputId": "3a6da369-74a5-4779-e328-1c807f878927"
      },
      "execution_count": null,
      "outputs": [
        {
          "output_type": "stream",
          "name": "stdout",
          "text": [
            "A\n",
            "BB\n",
            "CCC\n",
            "DDDD\n",
            "EEEEE\n"
          ]
        }
      ]
    },
    {
      "cell_type": "code",
      "metadata": {
        "colab": {
          "base_uri": "https://localhost:8080/"
        },
        "id": "476b788b",
        "outputId": "18903365-e01f-4bce-d1dd-4d19f312f0ef"
      },
      "source": [
        "num_rows = 5\n",
        "for i in range(num_rows):\n",
        "  # Print leading spaces\n",
        "  for j in range(num_rows - 1 - i):\n",
        "    print(\" \", end=\"\")\n",
        "  # Print ascending letters up to the middle\n",
        "  for j in range(i + 1):\n",
        "    print(chr(ord('A') + j), end=\"\")\n",
        "  # Placeholder for printing descending letters and trailing spaces\n",
        "  print()"
      ],
      "execution_count": null,
      "outputs": [
        {
          "output_type": "stream",
          "name": "stdout",
          "text": [
            "    A\n",
            "   AB\n",
            "  ABC\n",
            " ABCD\n",
            "ABCDE\n"
          ]
        }
      ]
    },
    {
      "cell_type": "code",
      "metadata": {
        "colab": {
          "base_uri": "https://localhost:8080/"
        },
        "id": "66c0654b",
        "outputId": "08fd8f0f-96ed-489c-a86f-2026f2795f5b"
      },
      "source": [
        "num_rows = 5\n",
        "for i in range(num_rows):\n",
        "  # Print leading spaces\n",
        "  for j in range(num_rows - 1 - i):\n",
        "    print(\" \", end=\"\")\n",
        "  # Print ascending letters up to the middle\n",
        "  for j in range(i + 1):\n",
        "    print(chr(ord('A') + j), end=\"\")\n",
        "  # Print descending letters from the middle - 1 down to A\n",
        "  for j in range(i - 1, -1, -1):\n",
        "    print(chr(ord('A') + j), end=\"\")\n",
        "  # Print trailing spaces (same as leading spaces for this pattern)\n",
        "  for j in range(num_rows - 1 - i):\n",
        "    print(\" \", end=\"\")\n",
        "  print()"
      ],
      "execution_count": null,
      "outputs": [
        {
          "output_type": "stream",
          "name": "stdout",
          "text": [
            "    A    \n",
            "   ABA   \n",
            "  ABCBA  \n",
            " ABCDCBA \n",
            "ABCDEDCBA\n"
          ]
        }
      ]
    },
    {
      "cell_type": "code",
      "source": [
        "for i in range(5):\n",
        "  for j in range(i+1):\n",
        "    print(chr(ord('E')-j),end='')\n",
        "  print()"
      ],
      "metadata": {
        "colab": {
          "base_uri": "https://localhost:8080/"
        },
        "id": "K416ZymAm2TJ",
        "outputId": "bbeaece7-d605-4d18-864e-8fb4b6468a74"
      },
      "execution_count": null,
      "outputs": [
        {
          "output_type": "stream",
          "name": "stdout",
          "text": [
            "E\n",
            "ED\n",
            "EDC\n",
            "EDCB\n",
            "EDCBA\n"
          ]
        }
      ]
    },
    {
      "cell_type": "code",
      "source": [
        "for i in range(5):\n",
        "  for j in range(5-i):\n",
        "    print(\"*\",end='')\n",
        "  for j in range(2*i+1):\n",
        "    print(\" \",end='')\n",
        "  for j in range(5-i):\n",
        "    print(\"*\",end='')\n",
        "  print()\n",
        "for i in range(5):\n",
        "  for j in range(i+1):\n",
        "    print(\"*\",end='')\n",
        "  for j in range(2*(5-i-1)):\n",
        "    print(\" \",end='')\n",
        "  for j in range(i+1):\n",
        "    print(\"*\",end='')\n",
        "  print()"
      ],
      "metadata": {
        "colab": {
          "base_uri": "https://localhost:8080/"
        },
        "id": "mTcLxA6knuMH",
        "outputId": "b1f794e6-e970-4dbb-ed0c-83f7d8230ddb"
      },
      "execution_count": null,
      "outputs": [
        {
          "output_type": "stream",
          "name": "stdout",
          "text": [
            "***** *****\n",
            "****   ****\n",
            "***     ***\n",
            "**       **\n",
            "*         *\n",
            "*        *\n",
            "**      **\n",
            "***    ***\n",
            "****  ****\n",
            "**********\n"
          ]
        }
      ]
    },
    {
      "cell_type": "code",
      "source": [
        "for i in range(4):\n",
        "  for j in range(4):\n",
        "    if i == 0 or i == 3 or j == 0 or j == 3:\n",
        "      print(\"*\", end='')\n",
        "    else:\n",
        "\n",
        "      print(\" \", end='')\n",
        "  print()"
      ],
      "metadata": {
        "colab": {
          "base_uri": "https://localhost:8080/"
        },
        "id": "EJkfB3xZuP_t",
        "outputId": "d75f6ff2-1697-49fe-b673-e4962f85b104"
      },
      "execution_count": null,
      "outputs": [
        {
          "output_type": "stream",
          "name": "stdout",
          "text": [
            "****\n",
            "*  *\n",
            "*  *\n",
            "****\n"
          ]
        }
      ]
    },
    {
      "cell_type": "code",
      "source": [
        "for i in range(5):\n",
        "  for j in range(5):\n",
        "    if i == 0 or i == 4 or j == 0 or j == 4:\n",
        "      print(\"*\", end='')\n",
        "    else:\n",
        "      print(\" \", end='')\n",
        "  print()"
      ],
      "metadata": {
        "colab": {
          "base_uri": "https://localhost:8080/"
        },
        "id": "Gqo281wru2HY",
        "outputId": "e56193f9-7f6a-4055-df8c-bb42a7ed50d5"
      },
      "execution_count": null,
      "outputs": [
        {
          "output_type": "stream",
          "name": "stdout",
          "text": [
            "*****\n",
            "*   *\n",
            "*   *\n",
            "*   *\n",
            "*****\n"
          ]
        }
      ]
    },
    {
      "cell_type": "code",
      "source": [
        "n = 4\n",
        "for i in range(2 * n - 1):\n",
        "  for j in range(2 * n - 1):\n",
        "    top = i\n",
        "    bottom = (2 * n - 2) - i\n",
        "    left = j\n",
        "    right = (2 * n - 2) - j\n",
        "    min_dist = min(min(top, bottom), min(left, right))\n",
        "    print(n - min_dist, end='')\n",
        "  print()"
      ],
      "metadata": {
        "colab": {
          "base_uri": "https://localhost:8080/"
        },
        "id": "ffbLXWJcvAxa",
        "outputId": "af173da8-a567-4704-a14b-ae2586905419"
      },
      "execution_count": null,
      "outputs": [
        {
          "output_type": "stream",
          "name": "stdout",
          "text": [
            "4444444\n",
            "4333334\n",
            "4322234\n",
            "4321234\n",
            "4322234\n",
            "4333334\n",
            "4444444\n"
          ]
        }
      ]
    },
    {
      "cell_type": "code",
      "source": [],
      "metadata": {
        "id": "i11p-0MVwKdP"
      },
      "execution_count": null,
      "outputs": []
    }
  ]
}