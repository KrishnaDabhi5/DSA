{
  "nbformat": 4,
  "nbformat_minor": 0,
  "metadata": {
    "colab": {
      "provenance": []
    },
    "kernelspec": {
      "name": "python3",
      "display_name": "Python 3"
    },
    "language_info": {
      "name": "python"
    }
  },
  "cells": [
    {
      "cell_type": "code",
      "source": [
        "# print name N times using recursion\n",
        "def name_recursion(name, n):\n",
        "  if n<= 0:\n",
        "    return\n",
        "  print(name)\n",
        "  name_recursion(name, n-1)\n",
        "\n",
        "name_recursion(\"krishna\",5)\n"
      ],
      "metadata": {
        "colab": {
          "base_uri": "https://localhost:8080/"
        },
        "id": "tdTcGvUDURBy",
        "outputId": "e0d58122-2398-4a81-cf67-aca6aec93908"
      },
      "execution_count": null,
      "outputs": [
        {
          "output_type": "stream",
          "name": "stdout",
          "text": [
            "krishna\n",
            "krishna\n",
            "krishna\n",
            "krishna\n",
            "krishna\n"
          ]
        }
      ]
    },
    {
      "cell_type": "code",
      "source": [
        "#print linearly 1 to n using recursion\n",
        "def linear_r(n):\n",
        "  if n <= 0:\n",
        "    return\n",
        "  linear_r(n-1)\n",
        "  print(n)\n",
        "linear_r(5)"
      ],
      "metadata": {
        "colab": {
          "base_uri": "https://localhost:8080/"
        },
        "id": "boV7hK2LsphO",
        "outputId": "a8e934be-5a8e-4fab-d7d1-b91740eca274"
      },
      "execution_count": null,
      "outputs": [
        {
          "output_type": "stream",
          "name": "stdout",
          "text": [
            "1\n",
            "2\n",
            "3\n",
            "4\n",
            "5\n"
          ]
        }
      ]
    },
    {
      "cell_type": "code",
      "source": [
        "def linear_r(n):\n",
        "  if n <= 0:\n",
        "    return\n",
        "  linear_r(n-1)\n",
        "  print(n)\n",
        "linear_r(5)"
      ],
      "metadata": {
        "colab": {
          "base_uri": "https://localhost:8080/"
        },
        "id": "9ruKcLNo-MAu",
        "outputId": "f1705a13-8e50-48f5-94d3-9d0ceeab94f0"
      },
      "execution_count": null,
      "outputs": [
        {
          "output_type": "stream",
          "name": "stdout",
          "text": [
            "1\n",
            "2\n",
            "3\n",
            "4\n",
            "5\n"
          ]
        }
      ]
    },
    {
      "cell_type": "code",
      "source": [
        "#print linearly n to 1 using recursion\n",
        "def number_r(n):\n",
        "  if n <= 0:\n",
        "    return\n",
        "  print(n)\n",
        "  number_r(n-1)\n",
        "number_r(5)"
      ],
      "metadata": {
        "colab": {
          "base_uri": "https://localhost:8080/"
        },
        "id": "xqH3-f7HtTAT",
        "outputId": "9aef5da5-4b77-46ad-d1a7-4407d5937f6a"
      },
      "execution_count": null,
      "outputs": [
        {
          "output_type": "stream",
          "name": "stdout",
          "text": [
            "5\n",
            "4\n",
            "3\n",
            "2\n",
            "1\n"
          ]
        }
      ]
    },
    {
      "cell_type": "code",
      "source": [],
      "metadata": {
        "id": "K4sgVVLivp9b"
      },
      "execution_count": null,
      "outputs": []
    },
    {
      "cell_type": "code",
      "metadata": {
        "colab": {
          "base_uri": "https://localhost:8080/"
        },
        "id": "20a69006",
        "outputId": "eb459a10-ddc2-430f-d6c4-fb10ac027ed7"
      },
      "source": [
        "class Solution:\n",
        "    def printNumbers(self, n):\n",
        "        \"\"\"Prints numbers linearly from 1 to n using recursion.\"\"\"\n",
        "        if n <= 0:\n",
        "            return\n",
        "        self.printNumbers(n - 1)\n",
        "        print(n)\n",
        "\n",
        "# Example usage:\n",
        "solution = Solution()\n",
        "solution.printNumbers(5)"
      ],
      "execution_count": null,
      "outputs": [
        {
          "output_type": "stream",
          "name": "stdout",
          "text": [
            "1\n",
            "2\n",
            "3\n",
            "4\n",
            "5\n"
          ]
        }
      ]
    },
    {
      "cell_type": "code",
      "source": [
        "def print_backtracking(i, n):\n",
        "    \"\"\"Prints numbers from 1 to n using backtracking.\"\"\"\n",
        "    if i < 1:\n",
        "        return\n",
        "    print_backtracking(i - 1, n)\n",
        "    print(i)\n",
        "\n",
        "# Example usage:\n",
        "print_backtracking(5, 5)"
      ],
      "metadata": {
        "colab": {
          "base_uri": "https://localhost:8080/"
        },
        "id": "9c6ee3hfy4Lh",
        "outputId": "d4b2c7e2-910c-45a0-beaf-7747a1d84f35"
      },
      "execution_count": null,
      "outputs": [
        {
          "output_type": "stream",
          "name": "stdout",
          "text": [
            "1\n",
            "2\n",
            "3\n",
            "4\n",
            "5\n"
          ]
        }
      ]
    },
    {
      "cell_type": "code",
      "source": [
        "def print_backtracking(i, n):\n",
        "    \"\"\"Prints numbers from 1 to n using backtracking.\"\"\"\n",
        "    if i < 1:\n",
        "        return\n",
        "    print(i)\n",
        "    print_backtracking(i - 1, n)\n",
        "\n",
        "\n",
        "# Example usage:\n",
        "print_backtracking(5, 5)"
      ],
      "metadata": {
        "colab": {
          "base_uri": "https://localhost:8080/"
        },
        "id": "wQqFxKqhzAOE",
        "outputId": "a5dd7e88-ee5f-479b-f756-b43f8cb4bf9d"
      },
      "execution_count": null,
      "outputs": [
        {
          "output_type": "stream",
          "name": "stdout",
          "text": [
            "5\n",
            "4\n",
            "3\n",
            "2\n",
            "1\n"
          ]
        }
      ]
    },
    {
      "cell_type": "code",
      "source": [
        "#sum of first n numbers using recursion\n",
        "def sum_recursion(n):\n",
        "  if n <= 0:\n",
        "    return 0\n",
        "  return n + sum_recursion(n-1)\n",
        "sum_recursion(3)"
      ],
      "metadata": {
        "colab": {
          "base_uri": "https://localhost:8080/"
        },
        "id": "T_iOUpll7ufV",
        "outputId": "2acb7b80-7757-4a0b-8b6f-ec1f3c105844"
      },
      "execution_count": null,
      "outputs": [
        {
          "output_type": "execute_result",
          "data": {
            "text/plain": [
              "6"
            ]
          },
          "metadata": {},
          "execution_count": 24
        }
      ]
    },
    {
      "cell_type": "code",
      "source": [
        "class Solution:\n",
        "    def NnumbersSum(self, N):\n",
        "        #your code goes here\n",
        "        if N <= 0:\n",
        "            return 0\n",
        "        return N + self.NnumbersSum(N - 1)\n",
        "solution = Solution()\n",
        "result = solution.NnumbersSum(5)\n",
        "print(result)"
      ],
      "metadata": {
        "colab": {
          "base_uri": "https://localhost:8080/"
        },
        "id": "YQjIo0_ODqoV",
        "outputId": "295c30f2-e657-4747-9973-52a68acc98ea"
      },
      "execution_count": null,
      "outputs": [
        {
          "output_type": "stream",
          "name": "stdout",
          "text": [
            "15\n"
          ]
        }
      ]
    },
    {
      "cell_type": "code",
      "source": [
        "# factorial of n using recursion\n",
        "def factorial_r(n):\n",
        "  if n <= 0:\n",
        "    return 1\n",
        "  return n * factorial_r(n-1)\n",
        "factorial_r(5)"
      ],
      "metadata": {
        "colab": {
          "base_uri": "https://localhost:8080/"
        },
        "id": "bO8i0BJrEGYh",
        "outputId": "21bace3d-bc66-4a5c-fc08-04b08a2d1641"
      },
      "execution_count": null,
      "outputs": [
        {
          "output_type": "execute_result",
          "data": {
            "text/plain": [
              "120"
            ]
          },
          "metadata": {},
          "execution_count": 26
        }
      ]
    },
    {
      "cell_type": "code",
      "source": [
        "# reverse an array using two pointers and recursion\n",
        "def reverse_array(arr, left, right):\n",
        "  if left >= right:\n",
        "    return\n",
        "  arr[left], arr[right] = arr[right], arr[left]\n",
        "  reverse_array(arr, left + 1, right - 1)\n",
        "\n",
        "# Example usage:\n",
        "my_array = [1, 2, 3, 4, 5]\n",
        "reverse_array(my_array, 0, len(my_array) - 1)\n",
        "print(my_array)"
      ],
      "metadata": {
        "colab": {
          "base_uri": "https://localhost:8080/"
        },
        "id": "N-WuL_N4nv92",
        "outputId": "3bb4b50c-5ac3-4bca-c6ad-f9d45cb9823c"
      },
      "execution_count": null,
      "outputs": [
        {
          "output_type": "stream",
          "name": "stdout",
          "text": [
            "[5, 4, 3, 2, 1]\n"
          ]
        }
      ]
    },
    {
      "cell_type": "code",
      "source": [
        "# reverse an array using one pointer and recursion\n",
        "def reverse_arr(arr, i):\n",
        "  if i >= len(arr) // 2:\n",
        "    return\n",
        "  arr[i], arr[len(arr)-i-1] = arr[len(arr)-i-1], arr[i]\n",
        "  reverse_arr(arr, i+1)\n",
        "my_arr = [1,4,6,3,7,9]\n",
        "reverse_arr(my_arr, 0)\n",
        "print(my_arr)"
      ],
      "metadata": {
        "colab": {
          "base_uri": "https://localhost:8080/"
        },
        "id": "4AYSrjdjSiJ_",
        "outputId": "53311fe7-deee-4e9e-b4c2-39216efd696b"
      },
      "execution_count": null,
      "outputs": [
        {
          "output_type": "stream",
          "name": "stdout",
          "text": [
            "[9, 7, 3, 6, 4, 1]\n"
          ]
        }
      ]
    },
    {
      "cell_type": "code",
      "source": [
        "# check if a string is palindrome using one pointer and recursion\n",
        "def is_palin (s, i):\n",
        "  if i >= len(s) // 2:\n",
        "    return True\n",
        "  if s[i] != s[len(s)-i-1]:\n",
        "    return False\n",
        "  return is_palin(s, i+1)\n",
        "strii = 'krishna'\n",
        "is_palin(strii,0)"
      ],
      "metadata": {
        "colab": {
          "base_uri": "https://localhost:8080/"
        },
        "id": "qNFPYWZHxlcV",
        "outputId": "4e6a3db3-bb6d-4e2f-dec9-fc4ffa7be060"
      },
      "execution_count": null,
      "outputs": [
        {
          "output_type": "execute_result",
          "data": {
            "text/plain": [
              "False"
            ]
          },
          "metadata": {},
          "execution_count": 12
        }
      ]
    },
    {
      "cell_type": "code",
      "source": [
        "def palindrom(s):\n",
        "  if s == s[::-1]:\n",
        "    return True\n",
        "  return False # Added return False for non-palindromes\n",
        "s = 'madam'\n",
        "print(palindrom(s))"
      ],
      "metadata": {
        "colab": {
          "base_uri": "https://localhost:8080/"
        },
        "id": "SrfBNslf2MY0",
        "outputId": "0bcc7894-5799-4ae3-f3d2-1356743faa16"
      },
      "execution_count": null,
      "outputs": [
        {
          "output_type": "stream",
          "name": "stdout",
          "text": [
            "True\n"
          ]
        }
      ]
    },
    {
      "cell_type": "code",
      "source": [
        "class Solution:\n",
        "    def isPalindrome(self, s: str) -> bool:\n",
        "        \"\"\"Checks if a string is a palindrome.\"\"\"\n",
        "        return s == s[::-1]\n",
        "\n",
        "# Example Usage:\n",
        "solution = Solution()\n",
        "print(solution.isPalindrome(\"racecar\"))\n",
        "print(solution.isPalindrome(\"hello\"))"
      ],
      "metadata": {
        "id": "HH5yCfG03h92"
      },
      "execution_count": null,
      "outputs": []
    },
    {
      "cell_type": "code",
      "source": [
        "# fibonacci using recursion\n",
        "def fibonacci(n):\n",
        "  if n <= 1:\n",
        "    return n\n",
        "  last = fibonacci(n-1)\n",
        "  s_last = fibonacci(n-2)\n",
        "  return last + s_last\n",
        "\n",
        "print(fibonacci(6))"
      ],
      "metadata": {
        "colab": {
          "base_uri": "https://localhost:8080/"
        },
        "id": "19nEp9V9ibQP",
        "outputId": "86ef43b5-d253-488f-c3bb-f5b5004ef374"
      },
      "execution_count": 4,
      "outputs": [
        {
          "output_type": "stream",
          "name": "stdout",
          "text": [
            "8\n"
          ]
        }
      ]
    },
    {
      "cell_type": "code",
      "source": [
        "def fibbonacci(n):\n",
        "  if n <= 1:\n",
        "    return n  # Return n for the base cases n=0 and n=1\n",
        "  return fibbonacci(n-1) + fibbonacci(n-2)\n",
        "print(fibbonacci(9))"
      ],
      "metadata": {
        "colab": {
          "base_uri": "https://localhost:8080/"
        },
        "id": "05LZiplT6wkj",
        "outputId": "d9d70082-c006-48dd-c558-00a012109d49"
      },
      "execution_count": 4,
      "outputs": [
        {
          "output_type": "stream",
          "name": "stdout",
          "text": [
            "34\n"
          ]
        }
      ]
    },
    {
      "cell_type": "code",
      "source": [
        "class Solution:\n",
        "    def fib(self, n):\n",
        "        #your code goes here\n",
        "        if n <= 1:\n",
        "            return n\n",
        "        return self.fib(n-1)+ self.fib(n-2)\n",
        "solution = Solution()\n",
        "result = solution.fib(6)\n",
        "print(result)"
      ],
      "metadata": {
        "colab": {
          "base_uri": "https://localhost:8080/"
        },
        "id": "es40E9GT9U3h",
        "outputId": "d1607e21-bdf1-49df-af28-1949c89b74cb"
      },
      "execution_count": 9,
      "outputs": [
        {
          "output_type": "stream",
          "name": "stdout",
          "text": [
            "8\n"
          ]
        }
      ]
    },
    {
      "cell_type": "code",
      "source": [],
      "metadata": {
        "id": "Bsrv5v2d9jck"
      },
      "execution_count": null,
      "outputs": []
    }
  ]
}