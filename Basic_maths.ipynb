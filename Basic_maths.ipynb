{
  "nbformat": 4,
  "nbformat_minor": 0,
  "metadata": {
    "colab": {
      "provenance": []
    },
    "kernelspec": {
      "name": "python3",
      "display_name": "Python 3"
    },
    "language_info": {
      "name": "python"
    }
  },
  "cells": [
    {
      "cell_type": "code",
      "execution_count": 63,
      "metadata": {
        "colab": {
          "base_uri": "https://localhost:8080/"
        },
        "id": "CtNrVXrttBhI",
        "outputId": "ef5779f3-b645-4b6e-d1fc-388ac3667997"
      },
      "outputs": [
        {
          "output_type": "stream",
          "name": "stdout",
          "text": [
            "enter the number: 232\n",
            "3\n"
          ]
        }
      ],
      "source": [
        "#numbet of digits\n",
        "n = int(input(\"enter the number: \"))\n",
        "count = 0\n",
        "while (n>0):\n",
        "  last_digit = n% 10\n",
        "  n = n // 10\n",
        "  count = count +1\n",
        "print(count)\n",
        "# time complexity O(n)"
      ]
    },
    {
      "cell_type": "code",
      "source": [
        "import math\n",
        "\n",
        "n = int(input(\"enter the number: \"))\n",
        "# count = 0 # This line is not needed for this approach\n",
        "count = int(math.log10(n)) + 1\n",
        "print(count)\n",
        "# time complexity O(lon10n)"
      ],
      "metadata": {
        "colab": {
          "base_uri": "https://localhost:8080/"
        },
        "id": "JN80_FHgtUwa",
        "outputId": "fa40322d-e3df-41df-ea60-c5250afe01b2"
      },
      "execution_count": 64,
      "outputs": [
        {
          "output_type": "stream",
          "name": "stdout",
          "text": [
            "enter the number: 2342\n",
            "4\n"
          ]
        }
      ]
    },
    {
      "cell_type": "code",
      "source": [
        "# reverse the number\n",
        "n = int(input(\"enter number:\"))\n",
        "is_negtive = n<0\n",
        "absn = abs(n)\n",
        "revn= 0\n",
        "while(absn > 0):\n",
        "  last_digit = absn % 10\n",
        "  revn = revn * 10 + last_digit\n",
        "  absn = absn // 10\n",
        "if is_negative:\n",
        "  revn = -revn\n",
        "print(revn)"
      ],
      "metadata": {
        "colab": {
          "base_uri": "https://localhost:8080/"
        },
        "id": "g4Qrq50W0z9I",
        "outputId": "50de7390-df2d-4e75-813a-eb2df9e19546"
      },
      "execution_count": 67,
      "outputs": [
        {
          "output_type": "stream",
          "name": "stdout",
          "text": [
            "enter number:-31231\n",
            "-13213\n"
          ]
        }
      ]
    },
    {
      "cell_type": "code",
      "source": [
        "#check pelindrom\n",
        "n = int(input(\"enter the number: \"))\n",
        "revn = 0\n",
        "absn = abs(n)\n",
        "dup = absn\n",
        "while(absn >0):\n",
        "  ld = absn % 10\n",
        "  revn = revn * 10 + ld\n",
        "  absn = absn // 10\n",
        "if dup == revn:\n",
        "  print(\"pelindrom\")\n",
        "else:\n",
        "  print(\"not pelindrom\")\n"
      ],
      "metadata": {
        "colab": {
          "base_uri": "https://localhost:8080/"
        },
        "id": "WIGKpLp63ei_",
        "outputId": "317f0049-352a-46c4-ce78-218dc40c373b"
      },
      "execution_count": 68,
      "outputs": [
        {
          "output_type": "stream",
          "name": "stdout",
          "text": [
            "enter the number: -121\n",
            "pelindrom\n"
          ]
        }
      ]
    },
    {
      "cell_type": "code",
      "source": [
        "# GSD & HCF\n",
        "n1 = int(input(\"enter the number1: \"))\n",
        "n2 = int(input(\"enter the number2: \"))\n",
        "while(n1>0 and n2>0):\n",
        "  if n1>n2:\n",
        "    n1 = n1 % n2\n",
        "  else:\n",
        "    n2 = n2 % n1\n",
        "  if (n1 == 0):\n",
        "    print(n2)\n",
        "print(n1)"
      ],
      "metadata": {
        "colab": {
          "base_uri": "https://localhost:8080/"
        },
        "id": "tRWBmZt_4aWb",
        "outputId": "b04ab03b-971a-4302-8a17-672446425d5a"
      },
      "execution_count": 70,
      "outputs": [
        {
          "output_type": "stream",
          "name": "stdout",
          "text": [
            "enter the number1: 4\n",
            "enter the number2: 6\n",
            "2\n",
            "0\n"
          ]
        }
      ]
    },
    {
      "cell_type": "code",
      "source": [
        "#armstrong number\n",
        "n = int(input(\"enter the number: \"))\n",
        "sum = 0\n",
        "dup = n\n",
        "while(n>0):\n",
        "  ld = n % 10\n",
        "  sum = sum + (ld ** 3)\n",
        "  n = n // 10\n",
        "if dup == sum:\n",
        "  print(\"armstrong\")\n",
        "else:\n",
        "  print(\"not armstrong\")"
      ],
      "metadata": {
        "colab": {
          "base_uri": "https://localhost:8080/"
        },
        "id": "63Ce17Gj56Lt",
        "outputId": "8d3ac84d-ccb6-413f-c3c1-91d2970f70fa"
      },
      "execution_count": 71,
      "outputs": [
        {
          "output_type": "stream",
          "name": "stdout",
          "text": [
            "enter the number: 371\n",
            "armstrong\n"
          ]
        }
      ]
    },
    {
      "cell_type": "code",
      "source": [
        "# find all divisor\n",
        "n = int(input(\"enter the number: \"))\n",
        "for i in range(1, n+1):\n",
        "  if(n % i == 0):\n",
        "    print(i,end=' ')\n",
        "# time complexity O(n)"
      ],
      "metadata": {
        "colab": {
          "base_uri": "https://localhost:8080/"
        },
        "id": "wSSrcjVg7i4t",
        "outputId": "8c999c22-d226-4498-a856-25e6108cbeb6"
      },
      "execution_count": 73,
      "outputs": [
        {
          "output_type": "stream",
          "name": "stdout",
          "text": [
            "enter the number: 52\n",
            "1 2 4 13 26 52 "
          ]
        }
      ]
    },
    {
      "cell_type": "code",
      "source": [
        "n = int(input(\"enter the number: \"))\n",
        "divisors = []\n",
        "for i in range(1, int(n**0.5)+1):\n",
        "  if(n % i == 0):\n",
        "    divisors.append(i)\n",
        "    if(i != n//i):\n",
        "      divisors.append(n//i)\n",
        "divisors.sort()\n",
        "print(divisors)\n",
        "#time complexity O(sqrt(n))"
      ],
      "metadata": {
        "colab": {
          "base_uri": "https://localhost:8080/"
        },
        "id": "Qc90XT6Z8bgw",
        "outputId": "767f1a3c-3c0e-42c8-92d1-e942ed6e4b74"
      },
      "execution_count": 74,
      "outputs": [
        {
          "output_type": "stream",
          "name": "stdout",
          "text": [
            "enter the number: 36\n",
            "[1, 2, 3, 4, 6, 9, 12, 18, 36]\n"
          ]
        }
      ]
    },
    {
      "cell_type": "code",
      "source": [
        "# prime number\n",
        "n = int(input(\"enter the number: \"))\n",
        "for i in range(2, int(n**0.5)+1):\n",
        "  if(n % i == 0):\n",
        "    print(\"not prime\")\n",
        "    break\n",
        "else:\n",
        "  print(\"prime\")\n",
        "# time complexity O(sqrt(n))"
      ],
      "metadata": {
        "colab": {
          "base_uri": "https://localhost:8080/"
        },
        "id": "00X2NAlM9rSo",
        "outputId": "12ea05fa-23f5-4560-c4d5-39ac30fbc779"
      },
      "execution_count": 76,
      "outputs": [
        {
          "output_type": "stream",
          "name": "stdout",
          "text": [
            "enter the number: 7\n",
            "prime\n"
          ]
        }
      ]
    },
    {
      "cell_type": "code",
      "source": [],
      "metadata": {
        "id": "ibnc-jWT__Zi"
      },
      "execution_count": null,
      "outputs": []
    }
  ]
}